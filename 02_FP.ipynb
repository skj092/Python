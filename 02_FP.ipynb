{
 "cells": [
  {
   "cell_type": "markdown",
   "id": "42772d52",
   "metadata": {},
   "source": [
    "**Aim:**\n",
    "* List comprehension\n",
    "* Generator expression\n",
    "* Tuple\n",
    "    * As Record\n",
    "    * As immutable list\n",
    "* Sequence slicing\n",
    "* Repeated concatenation\n",
    "* Sort and Sorted\n",
    "* Array.array\n",
    "* Numpy and Scipy\n",
    "* collection.deque"
   ]
  },
  {
   "cell_type": "markdown",
   "id": "5b4dc206",
   "metadata": {},
   "source": [
    "**1. List Comprehension**"
   ]
  },
  {
   "cell_type": "code",
   "execution_count": 18,
   "id": "cd5f7d36",
   "metadata": {},
   "outputs": [
    {
     "data": {
      "text/plain": [
       "[36, 35, 37, 38, 64]"
      ]
     },
     "execution_count": 18,
     "metadata": {},
     "output_type": "execute_result"
    }
   ],
   "source": [
    "symbols = '$#%&@'\n",
    "codes = []\n",
    "for symbol in symbols:\n",
    "    codes.append(ord(symbol))\n",
    "codes"
   ]
  },
  {
   "cell_type": "code",
   "execution_count": 22,
   "id": "75f770ba",
   "metadata": {},
   "outputs": [
    {
     "data": {
      "text/plain": [
       "[36, 35, 37, 38, 64]"
      ]
     },
     "execution_count": 22,
     "metadata": {},
     "output_type": "execute_result"
    }
   ],
   "source": [
    "# previous code can be written using list comprehension as \n",
    "codes = [ord(symbol) for symbol in symbols]\n",
    "codes"
   ]
  },
  {
   "cell_type": "code",
   "execution_count": 44,
   "id": "356e03be",
   "metadata": {},
   "outputs": [
    {
     "name": "stdout",
     "output_type": "stream",
     "text": [
      "['A', 'B', 'C']\n",
      "[65, 66, 67]\n"
     ]
    }
   ],
   "source": [
    "# One more example\n",
    "X = 'ABC'\n",
    "print([x for x in X])\n",
    "print([ord(x) for x in X])"
   ]
  },
  {
   "cell_type": "code",
   "execution_count": 46,
   "id": "f9cab545",
   "metadata": {},
   "outputs": [
    {
     "data": {
      "text/plain": [
       "[64]"
      ]
     },
     "execution_count": 46,
     "metadata": {},
     "output_type": "execute_result"
    }
   ],
   "source": [
    "# logical expression with list comprehension\n",
    "b_ascii = [ord(x) for x in symbols if ord(x)>44]\n",
    "b_ascii"
   ]
  },
  {
   "cell_type": "code",
   "execution_count": 40,
   "id": "75148527",
   "metadata": {},
   "outputs": [
    {
     "data": {
      "text/plain": [
       "[64]"
      ]
     },
     "execution_count": 40,
     "metadata": {},
     "output_type": "execute_result"
    }
   ],
   "source": [
    "# List comprehension vs map and filter\n",
    "\n",
    "b_ascii = list(filter(lambda c: c > 44, map(ord, symbols)))\n",
    "b_ascii"
   ]
  },
  {
   "cell_type": "code",
   "execution_count": 43,
   "id": "a5625066",
   "metadata": {},
   "outputs": [
    {
     "name": "stdout",
     "output_type": "stream",
     "text": [
      "('black', 'S')\n",
      "('black', 'M')\n",
      "('black', 'L')\n",
      "('white', 'S')\n",
      "('white', 'M')\n",
      "('white', 'L')\n"
     ]
    }
   ],
   "source": [
    "# Cartesian Products\n",
    "colors = ['black', 'white']\n",
    "sizes = ['S', 'M', 'L']\n",
    "for color in colors:\n",
    "    for size in sizes:\n",
    "        print((color, size))\n"
   ]
  },
  {
   "cell_type": "code",
   "execution_count": 42,
   "id": "ef549e8f",
   "metadata": {},
   "outputs": [
    {
     "data": {
      "text/plain": [
       "[('black', 'S'),\n",
       " ('black', 'M'),\n",
       " ('black', 'L'),\n",
       " ('white', 'S'),\n",
       " ('white', 'M'),\n",
       " ('white', 'L')]"
      ]
     },
     "execution_count": 42,
     "metadata": {},
     "output_type": "execute_result"
    }
   ],
   "source": [
    "# Cartesian Product with List comprehension\n",
    "colors = ['black', 'white']\n",
    "sizes = ['S', 'M', 'L']\n",
    "[(color, size) for color in colors for size in sizes]"
   ]
  },
  {
   "cell_type": "code",
   "execution_count": 48,
   "id": "9bb9cc20",
   "metadata": {},
   "outputs": [
    {
     "data": {
      "text/plain": [
       "[('black', 'S'),\n",
       " ('white', 'S'),\n",
       " ('black', 'M'),\n",
       " ('white', 'M'),\n",
       " ('black', 'L'),\n",
       " ('white', 'L')]"
      ]
     },
     "execution_count": 48,
     "metadata": {},
     "output_type": "execute_result"
    }
   ],
   "source": [
    "# to arrange by size\n",
    "[(color, size) for size in sizes for color in colors]"
   ]
  },
  {
   "cell_type": "markdown",
   "id": "63ae33c1",
   "metadata": {},
   "source": [
    "**2. Generator Expressions**"
   ]
  },
  {
   "cell_type": "code",
   "execution_count": 60,
   "id": "696dc80b",
   "metadata": {},
   "outputs": [
    {
     "data": {
      "text/plain": [
       "(36, 35, 37, 38, 64)"
      ]
     },
     "execution_count": 60,
     "metadata": {},
     "output_type": "execute_result"
    }
   ],
   "source": [
    "# Initializating tuple from generaor\n",
    "symbols = '$#%&@'\n",
    "tuple(ord(symbol) for symbol in symbols)"
   ]
  },
  {
   "cell_type": "code",
   "execution_count": 61,
   "id": "30429dd1",
   "metadata": {},
   "outputs": [
    {
     "data": {
      "text/plain": [
       "<generator object <genexpr> at 0x000002285E9D5F20>"
      ]
     },
     "execution_count": 61,
     "metadata": {},
     "output_type": "execute_result"
    }
   ],
   "source": [
    "(ord(symbol) for symbol in symbols)"
   ]
  },
  {
   "cell_type": "code",
   "execution_count": 62,
   "id": "e1a2a580",
   "metadata": {},
   "outputs": [
    {
     "data": {
      "text/plain": [
       "array('I', [36, 35, 37, 38, 64])"
      ]
     },
     "execution_count": 62,
     "metadata": {},
     "output_type": "execute_result"
    }
   ],
   "source": [
    "# Initializating array from generator\n",
    "import array\n",
    "array.array('I', (ord(symbol) for symbol in symbols))"
   ]
  },
  {
   "cell_type": "code",
   "execution_count": 63,
   "id": "402f09ec",
   "metadata": {},
   "outputs": [
    {
     "data": {
      "text/plain": [
       "('I', <generator object <genexpr> at 0x000002285EB1A270>)"
      ]
     },
     "execution_count": 63,
     "metadata": {},
     "output_type": "execute_result"
    }
   ],
   "source": [
    "('I', (ord(symbol) for symbol in symbols))"
   ]
  },
  {
   "cell_type": "code",
   "execution_count": 66,
   "id": "052fc533",
   "metadata": {},
   "outputs": [
    {
     "name": "stdout",
     "output_type": "stream",
     "text": [
      "black S\n",
      "black M\n",
      "black L\n",
      "white S\n",
      "white M\n",
      "white L\n"
     ]
    }
   ],
   "source": [
    "# Cartesian product in a generator expression\n",
    "\n",
    "colors = ['black', 'white']\n",
    "sizes = ['S', 'M', 'L']\n",
    "for tshirt in ('%s %s' %(c, s) for c in colors for s in sizes):\n",
    "    print(tshirt)"
   ]
  },
  {
   "cell_type": "markdown",
   "id": "bb6ceeda",
   "metadata": {},
   "source": [
    "**3. Tuple**"
   ]
  },
  {
   "cell_type": "markdown",
   "id": "dca33f1b",
   "metadata": {},
   "source": [
    "**3.1 Tuple as records**\n",
    "\n",
    "* Tuple hold records: each item in the tuple holds the data for one field and the position of the item gives its meaning."
   ]
  },
  {
   "cell_type": "code",
   "execution_count": 75,
   "id": "d397c29d",
   "metadata": {},
   "outputs": [
    {
     "name": "stdout",
     "output_type": "stream",
     "text": [
      "BRA/C3134Q\n",
      "ESP/XDAT4\n",
      "USA/3253\n"
     ]
    }
   ],
   "source": [
    "coordinates = (33.33, -11.64)\n",
    "city, year, pop, chg, area = ('Tokyo', 2003, 2345, 0.4, 8023)\n",
    "traveler_ids = [('USA', '3253'), ('BRA', 'C3134Q'), ('ESP', 'XDAT4')]\n",
    "\n",
    "for passport in sorted(traveler_ids):\n",
    "    print('%s/%s' %passport)"
   ]
  },
  {
   "cell_type": "code",
   "execution_count": 76,
   "id": "00d69e6d",
   "metadata": {},
   "outputs": [
    {
     "name": "stdout",
     "output_type": "stream",
     "text": [
      "USA 3253\n",
      "BRA C3134Q\n",
      "ESP XDAT4\n"
     ]
    }
   ],
   "source": [
    "for country, _ in traveler_ids:\n",
    "    print(country, _)"
   ]
  },
  {
   "cell_type": "code",
   "execution_count": 78,
   "id": "66e60640",
   "metadata": {},
   "outputs": [
    {
     "name": "stdout",
     "output_type": "stream",
     "text": [
      "33.33 -11.64\n"
     ]
    }
   ],
   "source": [
    "# tuple unpacking\n",
    "coordinates = (33.33, -11.64)\n",
    "lattitude, longitude = coordinates\n",
    "print(lattitude, longitude)"
   ]
  },
  {
   "cell_type": "code",
   "execution_count": 79,
   "id": "603de44e",
   "metadata": {},
   "outputs": [
    {
     "name": "stdout",
     "output_type": "stream",
     "text": [
      "-11.64 33.33\n"
     ]
    }
   ],
   "source": [
    "# swapping\n",
    "\n",
    "lattitude, longitude = longitude, lattitude\n",
    "print(lattitude, longitude)"
   ]
  },
  {
   "cell_type": "code",
   "execution_count": 80,
   "id": "701327b0",
   "metadata": {},
   "outputs": [
    {
     "data": {
      "text/plain": [
       "(2, 4)"
      ]
     },
     "execution_count": 80,
     "metadata": {},
     "output_type": "execute_result"
    }
   ],
   "source": [
    "divmod(20, 8)"
   ]
  },
  {
   "cell_type": "code",
   "execution_count": 83,
   "id": "9c7fcbed",
   "metadata": {},
   "outputs": [
    {
     "data": {
      "text/plain": [
       "(3, 6)"
      ]
     },
     "execution_count": 83,
     "metadata": {},
     "output_type": "execute_result"
    }
   ],
   "source": [
    "t = (30, 8)\n",
    "divmod(*t)"
   ]
  },
  {
   "cell_type": "code",
   "execution_count": 84,
   "id": "f66af22b",
   "metadata": {},
   "outputs": [
    {
     "data": {
      "text/plain": [
       "(3, 6)"
      ]
     },
     "execution_count": 84,
     "metadata": {},
     "output_type": "execute_result"
    }
   ],
   "source": [
    "quotient, remaider = divmod(*t)\n",
    "quotient, remaider"
   ]
  },
  {
   "cell_type": "code",
   "execution_count": 88,
   "id": "5a0e9c71",
   "metadata": {},
   "outputs": [
    {
     "data": {
      "text/plain": [
       "'hello.txt'"
      ]
     },
     "execution_count": 88,
     "metadata": {},
     "output_type": "execute_result"
    }
   ],
   "source": [
    "import os\n",
    "\n",
    "_, filename = os.path.split('/home/sonu/document/hello.txt')\n",
    "\n",
    "filename"
   ]
  },
  {
   "cell_type": "code",
   "execution_count": 89,
   "id": "f930711a",
   "metadata": {},
   "outputs": [
    {
     "data": {
      "text/plain": [
       "(0, 1, [2, 3, 4])"
      ]
     },
     "execution_count": 89,
     "metadata": {},
     "output_type": "execute_result"
    }
   ],
   "source": [
    "# using * to grap excess items\n",
    "\n",
    "a, b, *rest = range(5)\n",
    "a, b, rest"
   ]
  },
  {
   "cell_type": "code",
   "execution_count": 90,
   "id": "f5f52e7b",
   "metadata": {},
   "outputs": [
    {
     "data": {
      "text/plain": [
       "(0, 1, [2])"
      ]
     },
     "execution_count": 90,
     "metadata": {},
     "output_type": "execute_result"
    }
   ],
   "source": [
    "a, b, *rest = range(3)\n",
    "a, b, rest"
   ]
  },
  {
   "cell_type": "code",
   "execution_count": 91,
   "id": "c5ea70dd",
   "metadata": {},
   "outputs": [
    {
     "data": {
      "text/plain": [
       "(0, 1, [])"
      ]
     },
     "execution_count": 91,
     "metadata": {},
     "output_type": "execute_result"
    }
   ],
   "source": [
    "a, b, *rest = range(2)\n",
    "a, b, rest"
   ]
  },
  {
   "cell_type": "code",
   "execution_count": 92,
   "id": "055632e2",
   "metadata": {},
   "outputs": [
    {
     "data": {
      "text/plain": [
       "(0, [1, 2, 3, 4, 5, 6, 7], 8, 9)"
      ]
     },
     "execution_count": 92,
     "metadata": {},
     "output_type": "execute_result"
    }
   ],
   "source": [
    "a, *body, c, d = range(10)\n",
    "a, body, c, d"
   ]
  },
  {
   "cell_type": "code",
   "execution_count": 100,
   "id": "50b1980a",
   "metadata": {},
   "outputs": [
    {
     "name": "stdout",
     "output_type": "stream",
     "text": [
      "                |   lat.    |   long.  \n",
      "Tokyo           |  35.6897  |  33.3300 \n"
     ]
    }
   ],
   "source": [
    "# Nested tuple unpacking\n",
    "\n",
    "metro_areas = [\n",
    "    ('Tokyo', 'JP', 36.933, (35.689722, 139.691667))\n",
    "]\n",
    "print('{:15} | {:^9} | {:^9}'.format('', 'lat.', 'long.'))\n",
    "fmt = '{:15} | {:^9.4f} | {:^9.4f}'\n",
    "for name, cc, pop, (lattitude, longitudeu) in metro_areas:\n",
    "    print(fmt.format(name, lattitude, longitude))"
   ]
  },
  {
   "cell_type": "code",
   "execution_count": 102,
   "id": "27ce1c92",
   "metadata": {},
   "outputs": [
    {
     "name": "stdout",
     "output_type": "stream",
     "text": [
      "                |   lat.    |   long.  \n",
      "Tokyo           |  35.6897  |  33.3300 \n",
      "Delhi NCR       |  28.6139  |  33.3300 \n",
      "Mexico City     |  19.4333  |  33.3300 \n",
      "New York-Newark |  40.8086  |  33.3300 \n",
      "Sao Paulo       | -23.5478  |  33.3300 \n"
     ]
    }
   ],
   "source": [
    "metro_areas = [\n",
    "    ('Tokyo', 'JP', 36.933, (35.689722, 139.691667)),\n",
    "    ('Delhi NCR', 'IN', 21.935, (28.613889, 77.208889)),\n",
    "    ('Mexico City', 'MX', 20.142, (19.433333, -99.133333)),\n",
    "    ('New York-Newark', 'US', 20.104, (40.808611, -74.020386)),\n",
    "    ('Sao Paulo', 'BR', 19.649, (-23.547778, -46.635833)),\n",
    "]\n",
    "print('{:15} | {:^9} | {:^9}'.format('', 'lat.', 'long.'))\n",
    "fmt = '{:15} | {:^9.4f} | {:^9.4f}'\n",
    "for name, cc, pop, (lattitude, longitudeu) in metro_areas:\n",
    "    print(fmt.format(name, lattitude, longitude))"
   ]
  },
  {
   "cell_type": "code",
   "execution_count": 103,
   "id": "ff8f9d9d",
   "metadata": {},
   "outputs": [
    {
     "data": {
      "text/plain": [
       "City(name='Tokyo', country='JP', population=36.36, coordinate=(1234.234, 32.3566))"
      ]
     },
     "execution_count": 103,
     "metadata": {},
     "output_type": "execute_result"
    }
   ],
   "source": [
    "# Named tuple \n",
    "\n",
    "from collections import namedtuple\n",
    "\n",
    "City = namedtuple('City', 'name country population coordinate')\n",
    "tokyo = City('Tokyo', 'JP', 36.36, (1234.234, 32.3566))\n",
    "tokyo"
   ]
  },
  {
   "cell_type": "code",
   "execution_count": 104,
   "id": "4dab0cf1",
   "metadata": {},
   "outputs": [
    {
     "data": {
      "text/plain": [
       "36.36"
      ]
     },
     "execution_count": 104,
     "metadata": {},
     "output_type": "execute_result"
    }
   ],
   "source": [
    "tokyo.population"
   ]
  },
  {
   "cell_type": "code",
   "execution_count": 105,
   "id": "2178f0fd",
   "metadata": {},
   "outputs": [
    {
     "data": {
      "text/plain": [
       "(1234.234, 32.3566)"
      ]
     },
     "execution_count": 105,
     "metadata": {},
     "output_type": "execute_result"
    }
   ],
   "source": [
    "tokyo.coordinate"
   ]
  },
  {
   "cell_type": "code",
   "execution_count": 106,
   "id": "b6b4b128",
   "metadata": {},
   "outputs": [
    {
     "data": {
      "text/plain": [
       "('name', 'country', 'population', 'coordinate')"
      ]
     },
     "execution_count": 106,
     "metadata": {},
     "output_type": "execute_result"
    }
   ],
   "source": [
    "City._fields"
   ]
  },
  {
   "cell_type": "code",
   "execution_count": 110,
   "id": "ea22795c",
   "metadata": {},
   "outputs": [],
   "source": [
    "LatLong = namedtuple('LatLong', 'lat long')"
   ]
  },
  {
   "cell_type": "code",
   "execution_count": 111,
   "id": "ed264fc1",
   "metadata": {},
   "outputs": [
    {
     "data": {
      "text/plain": [
       "('Delhi NCR', 'IN', 21.343, LatLong(lat=23.134, long=36.3342))"
      ]
     },
     "execution_count": 111,
     "metadata": {},
     "output_type": "execute_result"
    }
   ],
   "source": [
    "delhi_data = ('Delhi NCR', 'IN', 21.343, LatLong(23.134, 36.3342))\n",
    "delhi_data"
   ]
  },
  {
   "cell_type": "code",
   "execution_count": 112,
   "id": "e1bc0ed7",
   "metadata": {},
   "outputs": [
    {
     "data": {
      "text/plain": [
       "City(name='Delhi NCR', country='IN', population=21.343, coordinate=LatLong(lat=23.134, long=36.3342))"
      ]
     },
     "execution_count": 112,
     "metadata": {},
     "output_type": "execute_result"
    }
   ],
   "source": [
    "delhi = City._make(delhi_data)\n",
    "delhi"
   ]
  },
  {
   "cell_type": "code",
   "execution_count": 114,
   "id": "ad992b56",
   "metadata": {},
   "outputs": [
    {
     "data": {
      "text/plain": [
       "{'name': 'Delhi NCR',\n",
       " 'country': 'IN',\n",
       " 'population': 21.343,\n",
       " 'coordinate': LatLong(lat=23.134, long=36.3342)}"
      ]
     },
     "execution_count": 114,
     "metadata": {},
     "output_type": "execute_result"
    }
   ],
   "source": [
    "delhi._asdict()"
   ]
  },
  {
   "cell_type": "code",
   "execution_count": 116,
   "id": "2a8f079e",
   "metadata": {},
   "outputs": [
    {
     "name": "stdout",
     "output_type": "stream",
     "text": [
      "name: Delhi NCR\n",
      "country: IN\n",
      "population: 21.343\n",
      "coordinate: LatLong(lat=23.134, long=36.3342)\n"
     ]
    }
   ],
   "source": [
    "for key, value in delhi._asdict().items():\n",
    "    print(key + ':', value)"
   ]
  },
  {
   "cell_type": "markdown",
   "id": "98aecbff",
   "metadata": {},
   "source": [
    "**3.2 Touple as immutable lists**"
   ]
  },
  {
   "cell_type": "code",
   "execution_count": null,
   "id": "2ed20882",
   "metadata": {},
   "outputs": [],
   "source": []
  }
 ],
 "metadata": {
  "kernelspec": {
   "display_name": "Python 3",
   "language": "python",
   "name": "python3"
  },
  "language_info": {
   "codemirror_mode": {
    "name": "ipython",
    "version": 3
   },
   "file_extension": ".py",
   "mimetype": "text/x-python",
   "name": "python",
   "nbconvert_exporter": "python",
   "pygments_lexer": "ipython3",
   "version": "3.8.8"
  }
 },
 "nbformat": 4,
 "nbformat_minor": 5
}
