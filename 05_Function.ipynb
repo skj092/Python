{
 "cells": [
  {
   "cell_type": "markdown",
   "id": "9a4d8fe5",
   "metadata": {},
   "source": [
    "**Function like an object**"
   ]
  },
  {
   "cell_type": "code",
   "execution_count": 1,
   "id": "1570efc2",
   "metadata": {},
   "outputs": [],
   "source": [
    "def factorial(n):\n",
    "    '''return n!'''\n",
    "    return 1 if n < 2 else n * factorial(n-1)"
   ]
  },
  {
   "cell_type": "code",
   "execution_count": 2,
   "id": "c361320c",
   "metadata": {},
   "outputs": [
    {
     "data": {
      "text/plain": [
       "6"
      ]
     },
     "execution_count": 2,
     "metadata": {},
     "output_type": "execute_result"
    }
   ],
   "source": [
    "factorial(3)"
   ]
  },
  {
   "cell_type": "code",
   "execution_count": 3,
   "id": "d04c1ae7",
   "metadata": {},
   "outputs": [
    {
     "data": {
      "text/plain": [
       "'return n!'"
      ]
     },
     "execution_count": 3,
     "metadata": {},
     "output_type": "execute_result"
    }
   ],
   "source": [
    "factorial.__doc__"
   ]
  },
  {
   "cell_type": "code",
   "execution_count": 4,
   "id": "8775ad26",
   "metadata": {},
   "outputs": [
    {
     "data": {
      "text/plain": [
       "function"
      ]
     },
     "execution_count": 4,
     "metadata": {},
     "output_type": "execute_result"
    }
   ],
   "source": [
    "type(factorial)"
   ]
  },
  {
   "cell_type": "code",
   "execution_count": 5,
   "id": "78d03e1d",
   "metadata": {},
   "outputs": [
    {
     "name": "stdout",
     "output_type": "stream",
     "text": [
      "Help on function factorial in module __main__:\n",
      "\n",
      "factorial(n)\n",
      "    return n!\n",
      "\n"
     ]
    }
   ],
   "source": [
    "help(factorial)"
   ]
  },
  {
   "cell_type": "code",
   "execution_count": 6,
   "id": "b0faac4d",
   "metadata": {},
   "outputs": [],
   "source": [
    "# assigning function to a variable\n",
    "fact = factorial"
   ]
  },
  {
   "cell_type": "code",
   "execution_count": 7,
   "id": "564ad681",
   "metadata": {},
   "outputs": [
    {
     "data": {
      "text/plain": [
       "<function __main__.factorial(n)>"
      ]
     },
     "execution_count": 7,
     "metadata": {},
     "output_type": "execute_result"
    }
   ],
   "source": [
    "fact"
   ]
  },
  {
   "cell_type": "code",
   "execution_count": 8,
   "id": "d73151eb",
   "metadata": {},
   "outputs": [
    {
     "data": {
      "text/plain": [
       "120"
      ]
     },
     "execution_count": 8,
     "metadata": {},
     "output_type": "execute_result"
    }
   ],
   "source": [
    "fact(5)"
   ]
  },
  {
   "cell_type": "code",
   "execution_count": 9,
   "id": "ae57a131",
   "metadata": {},
   "outputs": [
    {
     "data": {
      "text/plain": [
       "<map at 0x1d19220e880>"
      ]
     },
     "execution_count": 9,
     "metadata": {},
     "output_type": "execute_result"
    }
   ],
   "source": [
    "# passing function as an argument of a map function\n",
    "map(factorial, range(5))"
   ]
  },
  {
   "cell_type": "code",
   "execution_count": 10,
   "id": "b070aa1a",
   "metadata": {},
   "outputs": [
    {
     "data": {
      "text/plain": [
       "[1, 1, 2, 6, 24]"
      ]
     },
     "execution_count": 10,
     "metadata": {},
     "output_type": "execute_result"
    }
   ],
   "source": [
    "list(map(factorial, range(5)))"
   ]
  },
  {
   "cell_type": "markdown",
   "id": "ca5ca2af",
   "metadata": {},
   "source": [
    "**Higher-order functions**\n",
    "\n",
    "*A function that takes a function as argument or returns a function as result is a `higher-order function`.*"
   ]
  },
  {
   "cell_type": "code",
   "execution_count": 11,
   "id": "fb4556ee",
   "metadata": {},
   "outputs": [
    {
     "data": {
      "text/plain": [
       "['Ram', 'Sita', 'Geeta', 'Shivam']"
      ]
     },
     "execution_count": 11,
     "metadata": {},
     "output_type": "execute_result"
    }
   ],
   "source": [
    "names = ['Sita', 'Geeta', 'Ram', 'Shivam']\n",
    "\n",
    "# len function as input argument\n",
    "\n",
    "sorted(names, key=len) "
   ]
  },
  {
   "cell_type": "markdown",
   "id": "b33aa7b6",
   "metadata": {},
   "source": [
    "**Modern replacements for map, filter and reduce**"
   ]
  },
  {
   "cell_type": "code",
   "execution_count": 12,
   "id": "29bc86cf",
   "metadata": {},
   "outputs": [
    {
     "data": {
      "text/plain": [
       "[1, 1, 2, 6, 24]"
      ]
     },
     "execution_count": 12,
     "metadata": {},
     "output_type": "execute_result"
    }
   ],
   "source": [
    "# Lists of factorials produces with map and filter\n",
    "\n",
    "list(map(fact, range(5)))"
   ]
  },
  {
   "cell_type": "code",
   "execution_count": 13,
   "id": "927e8699",
   "metadata": {},
   "outputs": [
    {
     "data": {
      "text/plain": [
       "[1, 1, 2, 6, 24]"
      ]
     },
     "execution_count": 13,
     "metadata": {},
     "output_type": "execute_result"
    }
   ],
   "source": [
    "# Lists of factorials produces with list comprehension\n",
    "\n",
    "[fact(i) for i in range(5)]"
   ]
  },
  {
   "cell_type": "code",
   "execution_count": 14,
   "id": "74eb43fe",
   "metadata": {},
   "outputs": [
    {
     "data": {
      "text/plain": [
       "[1, 6, 120]"
      ]
     },
     "execution_count": 14,
     "metadata": {},
     "output_type": "execute_result"
    }
   ],
   "source": [
    "# Lists of odd factorials produces with map and filter\n",
    "\n",
    "list(map(fact, filter(lambda x: x % 2, range(6))))"
   ]
  },
  {
   "cell_type": "code",
   "execution_count": 15,
   "id": "9d0cba11",
   "metadata": {},
   "outputs": [
    {
     "data": {
      "text/plain": [
       "[1, 6, 120]"
      ]
     },
     "execution_count": 15,
     "metadata": {},
     "output_type": "execute_result"
    }
   ],
   "source": [
    "# Lists of odd factorials produces with list comprehension\n",
    "\n",
    "[fact(i) for i in range(6) if i % 2]"
   ]
  },
  {
   "cell_type": "code",
   "execution_count": 16,
   "id": "edf53cea",
   "metadata": {},
   "outputs": [
    {
     "data": {
      "text/plain": [
       "4950"
      ]
     },
     "execution_count": 16,
     "metadata": {},
     "output_type": "execute_result"
    }
   ],
   "source": [
    "from functools import reduce\n",
    "from operator import add\n",
    "\n",
    "# sum of integer up to 99 with reduce \n",
    "reduce(add, range(100))"
   ]
  },
  {
   "cell_type": "code",
   "execution_count": 17,
   "id": "7a10a211",
   "metadata": {},
   "outputs": [
    {
     "data": {
      "text/plain": [
       "4950"
      ]
     },
     "execution_count": 17,
     "metadata": {},
     "output_type": "execute_result"
    }
   ],
   "source": [
    "# sum of integer up to 99 with sum\n",
    "sum(range(100))"
   ]
  },
  {
   "cell_type": "markdown",
   "id": "9f3cf933",
   "metadata": {},
   "source": [
    "**Anonymous functions**"
   ]
  },
  {
   "cell_type": "code",
   "execution_count": 18,
   "id": "2c29403b",
   "metadata": {},
   "outputs": [
    {
     "data": {
      "text/plain": [
       "['orange', 'fig', 'mango', 'strawberry']"
      ]
     },
     "execution_count": 18,
     "metadata": {},
     "output_type": "execute_result"
    }
   ],
   "source": [
    "fruits = ['strawberry', 'fig', 'mango', 'orange']\n",
    "\n",
    "# sorting by reverse spelling with lambda\n",
    "sorted(fruits, key=lambda x: x[::-1])"
   ]
  },
  {
   "cell_type": "markdown",
   "id": "52702cb2",
   "metadata": {},
   "source": [
    "**The seven flavors of collable objects**\n",
    "\n",
    "1. User-defined functions\n",
    "2. Built-in functions\n",
    "3. Built-in methods\n",
    "4. Methods\n",
    "5. Classes\n",
    "6. Class instances\n",
    "7. Generator functions"
   ]
  },
  {
   "cell_type": "code",
   "execution_count": 19,
   "id": "4519d15c",
   "metadata": {},
   "outputs": [
    {
     "data": {
      "text/plain": [
       "True"
      ]
     },
     "execution_count": 19,
     "metadata": {},
     "output_type": "execute_result"
    }
   ],
   "source": [
    "callable(str)"
   ]
  },
  {
   "cell_type": "code",
   "execution_count": 20,
   "id": "4877eaef",
   "metadata": {},
   "outputs": [
    {
     "data": {
      "text/plain": [
       "(<function abs(x, /)>, str, 13)"
      ]
     },
     "execution_count": 20,
     "metadata": {},
     "output_type": "execute_result"
    }
   ],
   "source": [
    "abs, str, 13"
   ]
  },
  {
   "cell_type": "code",
   "execution_count": 21,
   "id": "50e38f42",
   "metadata": {},
   "outputs": [
    {
     "data": {
      "text/plain": [
       "False"
      ]
     },
     "execution_count": 21,
     "metadata": {},
     "output_type": "execute_result"
    }
   ],
   "source": [
    "callable(13)"
   ]
  },
  {
   "cell_type": "markdown",
   "id": "b1a4eda6",
   "metadata": {},
   "source": [
    "**User defined callable types**"
   ]
  },
  {
   "cell_type": "code",
   "execution_count": 22,
   "id": "18aade7f",
   "metadata": {},
   "outputs": [],
   "source": [
    "import random"
   ]
  },
  {
   "cell_type": "code",
   "execution_count": 23,
   "id": "cec21a85",
   "metadata": {},
   "outputs": [],
   "source": [
    "class BingoCage:\n",
    "    def __init__(self, items):\n",
    "        self._items = list(items)\n",
    "        random.shuffle(self._items)\n",
    "        \n",
    "    def pick(self):\n",
    "        try:\n",
    "            return self._items.pop()\n",
    "        except IndexError:\n",
    "            raise LookupError('pick from enpty BingoCage')\n",
    "        \n",
    "    def __call__(self):\n",
    "        return self.pick()"
   ]
  },
  {
   "cell_type": "code",
   "execution_count": 24,
   "id": "88912fc6",
   "metadata": {},
   "outputs": [
    {
     "data": {
      "text/plain": [
       "0"
      ]
     },
     "execution_count": 24,
     "metadata": {},
     "output_type": "execute_result"
    }
   ],
   "source": [
    "bingo = BingoCage(range(3))\n",
    "bingo.pick()"
   ]
  },
  {
   "cell_type": "code",
   "execution_count": 25,
   "id": "bb6f5d1e",
   "metadata": {},
   "outputs": [
    {
     "data": {
      "text/plain": [
       "2"
      ]
     },
     "execution_count": 25,
     "metadata": {},
     "output_type": "execute_result"
    }
   ],
   "source": [
    "bingo()"
   ]
  },
  {
   "cell_type": "code",
   "execution_count": 26,
   "id": "f4a6e26d",
   "metadata": {},
   "outputs": [
    {
     "data": {
      "text/plain": [
       "True"
      ]
     },
     "execution_count": 26,
     "metadata": {},
     "output_type": "execute_result"
    }
   ],
   "source": [
    "callable(bingo)"
   ]
  },
  {
   "cell_type": "code",
   "execution_count": 27,
   "id": "555301c0",
   "metadata": {},
   "outputs": [
    {
     "data": {
      "text/plain": [
       "1"
      ]
     },
     "execution_count": 27,
     "metadata": {},
     "output_type": "execute_result"
    }
   ],
   "source": [
    "bingo()"
   ]
  },
  {
   "cell_type": "code",
   "execution_count": 28,
   "id": "9bfc2751",
   "metadata": {},
   "outputs": [
    {
     "ename": "LookupError",
     "evalue": "pick from enpty BingoCage",
     "output_type": "error",
     "traceback": [
      "\u001b[1;31m---------------------------------------------------------------------------\u001b[0m",
      "\u001b[1;31mIndexError\u001b[0m                                Traceback (most recent call last)",
      "Input \u001b[1;32mIn [23]\u001b[0m, in \u001b[0;36mBingoCage.pick\u001b[1;34m(self)\u001b[0m\n\u001b[0;32m      7\u001b[0m \u001b[38;5;28;01mtry\u001b[39;00m:\n\u001b[1;32m----> 8\u001b[0m     \u001b[38;5;28;01mreturn\u001b[39;00m \u001b[38;5;28;43mself\u001b[39;49m\u001b[38;5;241;43m.\u001b[39;49m\u001b[43m_items\u001b[49m\u001b[38;5;241;43m.\u001b[39;49m\u001b[43mpop\u001b[49m\u001b[43m(\u001b[49m\u001b[43m)\u001b[49m\n\u001b[0;32m      9\u001b[0m \u001b[38;5;28;01mexcept\u001b[39;00m \u001b[38;5;167;01mIndexError\u001b[39;00m:\n",
      "\u001b[1;31mIndexError\u001b[0m: pop from empty list",
      "\nDuring handling of the above exception, another exception occurred:\n",
      "\u001b[1;31mLookupError\u001b[0m                               Traceback (most recent call last)",
      "Input \u001b[1;32mIn [28]\u001b[0m, in \u001b[0;36m<module>\u001b[1;34m\u001b[0m\n\u001b[1;32m----> 1\u001b[0m \u001b[43mbingo\u001b[49m\u001b[43m(\u001b[49m\u001b[43m)\u001b[49m\n",
      "Input \u001b[1;32mIn [23]\u001b[0m, in \u001b[0;36mBingoCage.__call__\u001b[1;34m(self)\u001b[0m\n\u001b[0;32m     12\u001b[0m \u001b[38;5;28;01mdef\u001b[39;00m \u001b[38;5;21m__call__\u001b[39m(\u001b[38;5;28mself\u001b[39m):\n\u001b[1;32m---> 13\u001b[0m     \u001b[38;5;28;01mreturn\u001b[39;00m \u001b[38;5;28;43mself\u001b[39;49m\u001b[38;5;241;43m.\u001b[39;49m\u001b[43mpick\u001b[49m\u001b[43m(\u001b[49m\u001b[43m)\u001b[49m\n",
      "Input \u001b[1;32mIn [23]\u001b[0m, in \u001b[0;36mBingoCage.pick\u001b[1;34m(self)\u001b[0m\n\u001b[0;32m      8\u001b[0m     \u001b[38;5;28;01mreturn\u001b[39;00m \u001b[38;5;28mself\u001b[39m\u001b[38;5;241m.\u001b[39m_items\u001b[38;5;241m.\u001b[39mpop()\n\u001b[0;32m      9\u001b[0m \u001b[38;5;28;01mexcept\u001b[39;00m \u001b[38;5;167;01mIndexError\u001b[39;00m:\n\u001b[1;32m---> 10\u001b[0m     \u001b[38;5;28;01mraise\u001b[39;00m \u001b[38;5;167;01mLookupError\u001b[39;00m(\u001b[38;5;124m'\u001b[39m\u001b[38;5;124mpick from enpty BingoCage\u001b[39m\u001b[38;5;124m'\u001b[39m)\n",
      "\u001b[1;31mLookupError\u001b[0m: pick from enpty BingoCage"
     ]
    }
   ],
   "source": [
    "bingo()"
   ]
  },
  {
   "cell_type": "markdown",
   "id": "7f8a1c63",
   "metadata": {},
   "source": [
    "**Function introspection**"
   ]
  },
  {
   "cell_type": "code",
   "execution_count": null,
   "id": "817ba899",
   "metadata": {},
   "outputs": [],
   "source": [
    "dir(factorial)"
   ]
  },
  {
   "cell_type": "code",
   "execution_count": null,
   "id": "9a3a256e",
   "metadata": {},
   "outputs": [],
   "source": [
    "class C: pass\n",
    "obj = C\n",
    "def func(): pass\n",
    "\n",
    "# listing attributes of unctions that don't exists in plain instances\n",
    "sorted(set(dir(func))-set(dir(obj)))"
   ]
  },
  {
   "cell_type": "markdown",
   "id": "696b68ec",
   "metadata": {},
   "source": [
    "**From positional to keyword-only parameters**"
   ]
  },
  {
   "cell_type": "code",
   "execution_count": null,
   "id": "da44b9c8",
   "metadata": {},
   "outputs": [],
   "source": [
    "def tag(name, *content, cls=None, **attrs):\n",
    "    '''Generate one or more HTML tags'''\n",
    "    if cls is not None:\n",
    "        attrs['class'] = cls\n",
    "    if attrs:\n",
    "        attr_srt = ''.join(' %s=\"%s\"' %(attr, value) for attr, value in sorted(attrs.items()))\n",
    "    else:\n",
    "        attr_srt = ''\n",
    "    if content:\n",
    "        return '\\n'.join('<%s%s>%s</%s>'%(name, attr_srt, c, name) for c in content)\n",
    "    else:\n",
    "        return '%s%s /' %(name, attr_srt)"
   ]
  },
  {
   "cell_type": "code",
   "execution_count": null,
   "id": "fbe6a993",
   "metadata": {},
   "outputs": [],
   "source": [
    "tag('br')"
   ]
  },
  {
   "cell_type": "code",
   "execution_count": null,
   "id": "1017b3c4",
   "metadata": {},
   "outputs": [],
   "source": [
    "tag('p', 'hello')"
   ]
  },
  {
   "cell_type": "code",
   "execution_count": null,
   "id": "e3a21409",
   "metadata": {},
   "outputs": [],
   "source": [
    "print(tag('p', 'hello', 'world'))"
   ]
  },
  {
   "cell_type": "code",
   "execution_count": null,
   "id": "9ee42086",
   "metadata": {},
   "outputs": [],
   "source": [
    "print(tag('p', 'hello', id=33))"
   ]
  },
  {
   "cell_type": "code",
   "execution_count": null,
   "id": "205a7f3b",
   "metadata": {},
   "outputs": [],
   "source": [
    "print(tag('p', 'hello', 'world', cls='sidebar'))"
   ]
  },
  {
   "cell_type": "code",
   "execution_count": null,
   "id": "0834d2c5",
   "metadata": {},
   "outputs": [],
   "source": [
    "tag(content='testing', name='img')"
   ]
  },
  {
   "cell_type": "code",
   "execution_count": null,
   "id": "b8215bf7",
   "metadata": {},
   "outputs": [],
   "source": [
    "my_tag = {'name': 'img', 'title': 'Sunset Bouleverd', 'src': 'sunset.jpg', 'cls': 'framed'}\n",
    "tag(**my_tag)"
   ]
  },
  {
   "cell_type": "code",
   "execution_count": null,
   "id": "f43540a0",
   "metadata": {},
   "outputs": [],
   "source": [
    "def f(a, *, b):\n",
    "    return a, b"
   ]
  },
  {
   "cell_type": "code",
   "execution_count": null,
   "id": "f0ca7533",
   "metadata": {},
   "outputs": [],
   "source": [
    "f(1, b=2)"
   ]
  },
  {
   "cell_type": "markdown",
   "id": "ecd1ff58",
   "metadata": {},
   "source": [
    "**Retrieving information about parameters**"
   ]
  },
  {
   "cell_type": "code",
   "execution_count": null,
   "id": "7724c443",
   "metadata": {},
   "outputs": [],
   "source": []
  }
 ],
 "metadata": {
  "kernelspec": {
   "display_name": "Python 3 (ipykernel)",
   "language": "python",
   "name": "python3"
  },
  "language_info": {
   "codemirror_mode": {
    "name": "ipython",
    "version": 3
   },
   "file_extension": ".py",
   "mimetype": "text/x-python",
   "name": "python",
   "nbconvert_exporter": "python",
   "pygments_lexer": "ipython3",
   "version": "3.9.5"
  }
 },
 "nbformat": 4,
 "nbformat_minor": 5
}
